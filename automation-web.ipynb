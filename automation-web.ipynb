{
 "cells": [
  {
   "cell_type": "code",
   "execution_count": null,
   "id": "7e3ac530",
   "metadata": {},
   "outputs": [],
   "source": [
    "# Para aprender, vamos usar o Python para preencher um formulário na internet\n",
    "\n",
    "# Passo 1: Entrar em https://pages.hashtagtreinamentos.com/inscricao-minicurso-python-automacao-org?origemurl=hashtag_yt_org_minipython_videoselenium\n",
    "# Passo 2: Preencher nome, preencher e-mail\n",
    "# Passo 3: Clicar no botão para enviar o formulário"
   ]
  },
  {
   "cell_type": "code",
   "execution_count": 2,
   "id": "00cd86ad",
   "metadata": {},
   "outputs": [],
   "source": [
    "from selenium import webdriver\n",
    "from webdriver_manager.chrome import ChromeDriverManager\n",
    "from selenium.webdriver.chrome.service import Service\n",
    "\n",
    "servico = Service(ChromeDriverManager().install())\n",
    "\n",
    "navegador = webdriver.Chrome(service=servico)\n",
    "# Passo 1:\n",
    "navegador.get(\"https://pages.hashtagtreinamentos.com/inscricao-minicurso-python-automacao-org?origemurl=hashtag_yt_org_minipython_videoselenium\")\n",
    "\n",
    "# Passo 2:\n",
    "navegador.find_element('xpath', \n",
    "                       '//*[@id=\"section-10356508\"]/section/div[2]/div/div[2]/form/div[1]/div/div[1]/div/input').send_keys(\"Lucas\")\n",
    "navegador.find_element('xpath', \n",
    "                       '//*[@id=\"section-10356508\"]/section/div[2]/div/div[2]/form/div[1]/div/div[2]/div/input').send_keys(\"pythonimpressionador@gmail.com\")\n",
    "# Passo 3:\n",
    "navegador.find_element('xpath', '//*[@id=\"section-10356508\"]/section/div[2]/div/div[2]/form/button').click()"
   ]
  },
  {
   "cell_type": "code",
   "execution_count": null,
   "id": "f81d5887",
   "metadata": {},
   "outputs": [],
   "source": []
  }
 ],
 "metadata": {
  "kernelspec": {
   "display_name": "Python 3 (ipykernel)",
   "language": "python",
   "name": "python3"
  },
  "language_info": {
   "codemirror_mode": {
    "name": "ipython",
    "version": 3
   },
   "file_extension": ".py",
   "mimetype": "text/x-python",
   "name": "python",
   "nbconvert_exporter": "python",
   "pygments_lexer": "ipython3",
   "version": "3.9.13"
  }
 },
 "nbformat": 4,
 "nbformat_minor": 5
}
